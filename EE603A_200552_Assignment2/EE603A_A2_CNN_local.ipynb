{
 "cells": [
  {
   "cell_type": "code",
   "execution_count": 9,
   "id": "6aeb5bfa",
   "metadata": {},
   "outputs": [],
   "source": [
    "import tensorflow as tf\n",
    "import librosa\n",
    "import pandas as pd\n",
    "import numpy as np\n",
    "import sklearn\n",
    "import os\n",
    "from keras.callbacks import TensorBoard\n",
    "from keras.models import Sequential\n",
    "from keras.layers import Conv2D, MaxPooling2D\n",
    "from keras.layers import Activation, Dropout, Flatten, Dense\n",
    "from warnings import filterwarnings\n",
    "filterwarnings(\"ignore\")"
   ]
  },
  {
   "cell_type": "code",
   "execution_count": 10,
   "id": "cb74e05b",
   "metadata": {},
   "outputs": [],
   "source": [
    "def eventroll_to_multihot_vector(eventroll):\n",
    "  active_events = (eventroll.sum(axis=1) >= 0.5).astype('float')\n",
    "  multi_hot = np.delete(active_events, 8)\n",
    "  return multi_hot"
   ]
  },
  {
   "cell_type": "code",
   "execution_count": 3,
   "id": "0d8e1644",
   "metadata": {},
   "outputs": [
    {
     "name": "stdout",
     "output_type": "stream",
     "text": [
      "10000\n"
     ]
    }
   ],
   "source": [
    "path = \"C:\\\\Users\\\\Manan Kabra\\\\Desktop\\\\Sem5\\\\EE603A\\\\Y\"\n",
    "os.chdir(path)\n",
    "Y_list = os.listdir()\n",
    "print(len(Y_list))"
   ]
  },
  {
   "cell_type": "code",
   "execution_count": 4,
   "id": "26f56b06",
   "metadata": {},
   "outputs": [
    {
     "name": "stdout",
     "output_type": "stream",
     "text": [
      "10000\n"
     ]
    }
   ],
   "source": [
    "Y_hot = []\n",
    "for i in range(len(Y_list)):\n",
    "  Y_mat = np.load(Y_list[i])\n",
    "  multi_hot = eventroll_to_multihot_vector(Y_mat)\n",
    "  Y_hot.append(multi_hot)\n",
    "print(len(Y_hot))"
   ]
  },
  {
   "cell_type": "code",
   "execution_count": 5,
   "id": "261fa945",
   "metadata": {},
   "outputs": [
    {
     "name": "stdout",
     "output_type": "stream",
     "text": [
      "10000\n"
     ]
    }
   ],
   "source": [
    "path = \"C:\\\\Users\\\\Manan Kabra\\\\Desktop\\\\Sem5\\\\EE603A\\\\X\"\n",
    "os.chdir(path)\n",
    "X_list = os.listdir()\n",
    "print(len(X_list))"
   ]
  },
  {
   "cell_type": "code",
   "execution_count": 6,
   "id": "026d38bd",
   "metadata": {},
   "outputs": [
    {
     "name": "stdout",
     "output_type": "stream",
     "text": [
      "10000\n"
     ]
    }
   ],
   "source": [
    "X_input = []\n",
    "for i in range(len(X_list)):\n",
    "  X_mat = np.load(X_list[i])\n",
    "  a, b, c = X_mat.shape\n",
    "  X_mat = librosa.power_to_db(X_mat, ref = np.max)\n",
    "  X_mat = X_mat.reshape((b, c, 1))\n",
    "  X_input.append(X_mat)\n",
    "  X_input[i] = tf.convert_to_tensor(X_input[i])\n",
    "print(len(X_input))"
   ]
  },
  {
   "cell_type": "code",
   "execution_count": 7,
   "id": "56322c46",
   "metadata": {},
   "outputs": [
    {
     "name": "stdout",
     "output_type": "stream",
     "text": [
      "2000\n"
     ]
    }
   ],
   "source": [
    "path = 'C:\\\\Users\\\\Manan Kabra\\\\Desktop\\\\Sem5\\\\EE603A\\\\dataset\\\\Y'\n",
    "os.chdir(path)\n",
    "Yval_list = os.listdir()\n",
    "print(len(Yval_list))"
   ]
  },
  {
   "cell_type": "code",
   "execution_count": 8,
   "id": "205a970f",
   "metadata": {},
   "outputs": [
    {
     "name": "stdout",
     "output_type": "stream",
     "text": [
      "2000\n"
     ]
    }
   ],
   "source": [
    "Yval_hot = []\n",
    "for i in range(len(Yval_list)):\n",
    "  Y_mat = np.load(Yval_list[i])\n",
    "  multi_hot = eventroll_to_multihot_vector(Y_mat)\n",
    "  Yval_hot.append(multi_hot)\n",
    "print(len(Yval_hot))"
   ]
  },
  {
   "cell_type": "code",
   "execution_count": 9,
   "id": "002a6257",
   "metadata": {},
   "outputs": [
    {
     "name": "stdout",
     "output_type": "stream",
     "text": [
      "2000\n"
     ]
    }
   ],
   "source": [
    "path = 'C:\\\\Users\\\\Manan Kabra\\\\Desktop\\\\Sem5\\\\EE603A\\\\dataset\\\\X'\n",
    "os.chdir(path)\n",
    "Xval_list = os.listdir()\n",
    "print(len(Xval_list))"
   ]
  },
  {
   "cell_type": "code",
   "execution_count": 10,
   "id": "6a2525b5",
   "metadata": {},
   "outputs": [
    {
     "name": "stdout",
     "output_type": "stream",
     "text": [
      "2000\n"
     ]
    }
   ],
   "source": [
    "Xval_input = []\n",
    "for i in range(len(Xval_list)):\n",
    "  X_mat = np.load(Xval_list[i])\n",
    "  a, b, c = X_mat.shape\n",
    "  X_mat = librosa.power_to_db(X_mat, ref = np.max)\n",
    "  X_mat = X_mat.reshape((b, c, 1))\n",
    "  Xval_input.append(X_mat)\n",
    "  Xval_input[i] = tf.convert_to_tensor(Xval_input[i])\n",
    "print(len(Xval_input))"
   ]
  },
  {
   "cell_type": "code",
   "execution_count": 11,
   "id": "f6ef4240",
   "metadata": {},
   "outputs": [],
   "source": [
    "X_train = X_input\n",
    "Y_train = Y_hot\n",
    "X_test = Xval_input\n",
    "Y_test = Yval_hot"
   ]
  },
  {
   "cell_type": "code",
   "execution_count": 12,
   "id": "9b71ff43",
   "metadata": {},
   "outputs": [],
   "source": [
    "X_train = tf.convert_to_tensor(X_train)\n",
    "X_test = tf.convert_to_tensor(X_test)\n",
    "Y_train = np.array(Y_train)\n",
    "Y_test = np.array(Y_test)"
   ]
  },
  {
   "cell_type": "code",
   "execution_count": 13,
   "id": "71911c63",
   "metadata": {},
   "outputs": [],
   "source": [
    "Y_train = Y_train/(Y_train.sum(axis = 1, keepdims = True))\n",
    "Y_test = Y_test/(Y_test.sum(axis = 1, keepdims = True))"
   ]
  },
  {
   "cell_type": "code",
   "execution_count": 14,
   "id": "36e46b52",
   "metadata": {},
   "outputs": [
    {
     "name": "stdout",
     "output_type": "stream",
     "text": [
      "<class 'numpy.ndarray'> <class 'numpy.ndarray'>\n",
      "<class 'tensorflow.python.framework.ops.EagerTensor'> <class 'tensorflow.python.framework.ops.EagerTensor'>\n"
     ]
    }
   ],
   "source": [
    "print(type(Y_test), type(Y_train))\n",
    "print(type(X_test), type(X_train))"
   ]
  },
  {
   "cell_type": "code",
   "execution_count": 15,
   "id": "7c6dcf5c",
   "metadata": {},
   "outputs": [
    {
     "name": "stdout",
     "output_type": "stream",
     "text": [
      "2000 2000 10000 10000\n"
     ]
    }
   ],
   "source": [
    "print(len(Y_test), len(X_test), len(Y_train), len(X_train))"
   ]
  },
  {
   "cell_type": "code",
   "execution_count": 16,
   "id": "023164a4",
   "metadata": {},
   "outputs": [
    {
     "name": "stdout",
     "output_type": "stream",
     "text": [
      "(2000, 64, 1000, 1) (2000, 10) (10000, 64, 1000, 1) (10000, 10)\n"
     ]
    }
   ],
   "source": [
    "print(X_test.shape, Y_test.shape, X_train.shape, Y_train.shape)"
   ]
  },
  {
   "cell_type": "code",
   "execution_count": 11,
   "id": "e78b0b13",
   "metadata": {},
   "outputs": [],
   "source": [
    "from keras.callbacks import ModelCheckpoint\n",
    "model_path = 'C:\\\\Users\\\\Manan Kabra\\\\Desktop\\\\Sem5\\\\EE603A\\\\200552_Assignment2\\\\Best_Models\\\\new_best_models_cnn.{epoch:02d}-{val_loss:.3f}.hdf5'\n",
    "checkpoint = tf.keras.callbacks.ModelCheckpoint(filepath = model_path, monitor = 'val_accuracy', save_best_only = True, mode = 'max')"
   ]
  },
  {
   "cell_type": "code",
   "execution_count": 12,
   "id": "e9f96922",
   "metadata": {},
   "outputs": [
    {
     "name": "stdout",
     "output_type": "stream",
     "text": [
      "No GPU, using /device:CPU:0.\n"
     ]
    }
   ],
   "source": [
    "device_name = tf.test.gpu_device_name()\n",
    "if len(device_name) > 0:\n",
    "    print(\"Found GPU at: {}\".format(device_name))\n",
    "else:\n",
    "    device_name = \"/device:CPU:0\"\n",
    "    print(\"No GPU, using {}.\".format(device_name))"
   ]
  },
  {
   "cell_type": "code",
   "execution_count": 13,
   "id": "33def9ac",
   "metadata": {},
   "outputs": [
    {
     "data": {
      "text/plain": [
       "<keras.engine.sequential.Sequential at 0x1d1c4ff61f0>"
      ]
     },
     "execution_count": 13,
     "metadata": {},
     "output_type": "execute_result"
    }
   ],
   "source": [
    "input_sh = (64, 1000, 1)\n",
    "model = tf.keras.Sequential([\n",
    "    tf.keras.layers.MaxPooling2D(2, 2),\n",
    "    tf.keras.layers.Conv2D(16, (3, 3), padding=\"same\", input_shape = input_sh),\n",
    "    tf.keras.layers.MaxPooling2D(2, 2),\n",
    "    tf.keras.layers.BatchNormalization(),\n",
    "    tf.keras.layers.Activation('relu'),\n",
    "\n",
    "    tf.keras.layers.Conv2D(32, (3, 3), padding=\"same\"),\n",
    "    tf.keras.layers.MaxPooling2D(2, 2),\n",
    "    tf.keras.layers.BatchNormalization(),\n",
    "    tf.keras.layers.Activation('relu'),\n",
    "#     tf.keras.layers.MaxPooling2D(2, 2),\n",
    "    tf.keras.layers.Dropout(0.25),\n",
    "\n",
    "    tf.keras.layers.Conv2D(64, (3, 3), padding=\"same\"),\n",
    "    tf.keras.layers.MaxPooling2D(2, 2),\n",
    "    tf.keras.layers.BatchNormalization(),\n",
    "    tf.keras.layers.Activation('relu'),\n",
    "#     tf.keras.layers.MaxPooling2D(2, 2),\n",
    "    tf.keras.layers.Dropout(0.25),\n",
    "\n",
    "    tf.keras.layers.Conv2D(128, (3, 3), padding=\"same\"),\n",
    "    tf.keras.layers.BatchNormalization(),\n",
    "    tf.keras.layers.Activation('relu'),\n",
    "    tf.keras.layers.MaxPooling2D(2, 2),\n",
    "\n",
    "    tf.keras.layers.Conv2D(256, (3, 3), padding=\"same\"),\n",
    "    tf.keras.layers.BatchNormalization(),\n",
    "    tf.keras.layers.Activation('relu'),\n",
    "    #   tf.keras.layers.MaxPooling2D(2, 2),\n",
    "\n",
    "    #   tf.keras.layers.Conv2D(128, (3, 3), padding=\"same\"),\n",
    "    #   tf.keras.layers.BatchNormalization(),\n",
    "    #   tf.keras.layers.Activation('relu'),\n",
    "    tf.keras.layers.GlobalMaxPooling2D(),\n",
    "    tf.keras.layers.Flatten(),\n",
    "    tf.keras.layers.Dense(256,activation='relu'),\n",
    "    tf.keras.layers.Dense(10, activation='softmax')\n",
    "])\n",
    "model"
   ]
  },
  {
   "cell_type": "code",
   "execution_count": 14,
   "id": "a39da239",
   "metadata": {},
   "outputs": [
    {
     "name": "stdout",
     "output_type": "stream",
     "text": [
      "Model: \"sequential_1\"\n",
      "_________________________________________________________________\n",
      " Layer (type)                Output Shape              Param #   \n",
      "=================================================================\n",
      " max_pooling2d_5 (MaxPooling  (None, 32, 500, 1)       0         \n",
      " 2D)                                                             \n",
      "                                                                 \n",
      " conv2d_5 (Conv2D)           (None, 32, 500, 16)       160       \n",
      "                                                                 \n",
      " max_pooling2d_6 (MaxPooling  (None, 16, 250, 16)      0         \n",
      " 2D)                                                             \n",
      "                                                                 \n",
      " batch_normalization_5 (Batc  (None, 16, 250, 16)      64        \n",
      " hNormalization)                                                 \n",
      "                                                                 \n",
      " activation_5 (Activation)   (None, 16, 250, 16)       0         \n",
      "                                                                 \n",
      " conv2d_6 (Conv2D)           (None, 16, 250, 32)       4640      \n",
      "                                                                 \n",
      " max_pooling2d_7 (MaxPooling  (None, 8, 125, 32)       0         \n",
      " 2D)                                                             \n",
      "                                                                 \n",
      " batch_normalization_6 (Batc  (None, 8, 125, 32)       128       \n",
      " hNormalization)                                                 \n",
      "                                                                 \n",
      " activation_6 (Activation)   (None, 8, 125, 32)        0         \n",
      "                                                                 \n",
      " dropout_2 (Dropout)         (None, 8, 125, 32)        0         \n",
      "                                                                 \n",
      " conv2d_7 (Conv2D)           (None, 8, 125, 64)        18496     \n",
      "                                                                 \n",
      " max_pooling2d_8 (MaxPooling  (None, 4, 62, 64)        0         \n",
      " 2D)                                                             \n",
      "                                                                 \n",
      " batch_normalization_7 (Batc  (None, 4, 62, 64)        256       \n",
      " hNormalization)                                                 \n",
      "                                                                 \n",
      " activation_7 (Activation)   (None, 4, 62, 64)         0         \n",
      "                                                                 \n",
      " dropout_3 (Dropout)         (None, 4, 62, 64)         0         \n",
      "                                                                 \n",
      " conv2d_8 (Conv2D)           (None, 4, 62, 128)        73856     \n",
      "                                                                 \n",
      " batch_normalization_8 (Batc  (None, 4, 62, 128)       512       \n",
      " hNormalization)                                                 \n",
      "                                                                 \n",
      " activation_8 (Activation)   (None, 4, 62, 128)        0         \n",
      "                                                                 \n",
      " max_pooling2d_9 (MaxPooling  (None, 2, 31, 128)       0         \n",
      " 2D)                                                             \n",
      "                                                                 \n",
      " conv2d_9 (Conv2D)           (None, 2, 31, 256)        295168    \n",
      "                                                                 \n",
      " batch_normalization_9 (Batc  (None, 2, 31, 256)       1024      \n",
      " hNormalization)                                                 \n",
      "                                                                 \n",
      " activation_9 (Activation)   (None, 2, 31, 256)        0         \n",
      "                                                                 \n",
      " global_max_pooling2d_1 (Glo  (None, 256)              0         \n",
      " balMaxPooling2D)                                                \n",
      "                                                                 \n",
      " flatten_1 (Flatten)         (None, 256)               0         \n",
      "                                                                 \n",
      " dense_2 (Dense)             (None, 256)               65792     \n",
      "                                                                 \n",
      " dense_3 (Dense)             (None, 10)                2570      \n",
      "                                                                 \n",
      "=================================================================\n",
      "Total params: 462,666\n",
      "Trainable params: 461,674\n",
      "Non-trainable params: 992\n",
      "_________________________________________________________________\n"
     ]
    }
   ],
   "source": [
    "model.compile(optimizer=tf.keras.optimizers.Adam(),\n",
    "            loss=tf.keras.losses.CategoricalCrossentropy(),\n",
    "            metrics=[\"accuracy\"])\n",
    "model.build((None,64,1000,1))\n",
    "model.summary()"
   ]
  },
  {
   "cell_type": "code",
   "execution_count": 148,
   "id": "80bdde0a",
   "metadata": {},
   "outputs": [
    {
     "name": "stdout",
     "output_type": "stream",
     "text": [
      "Epoch 1/50\n",
      "200/200 [==============================] - 85s 421ms/step - loss: 1.7724 - accuracy: 0.1243 - val_loss: 2.2653 - val_accuracy: 0.0580\n",
      "Epoch 2/50\n",
      "200/200 [==============================] - 83s 416ms/step - loss: 1.5259 - accuracy: 0.1654 - val_loss: 1.7537 - val_accuracy: 0.1470\n",
      "Epoch 3/50\n",
      "200/200 [==============================] - 84s 422ms/step - loss: 1.4051 - accuracy: 0.2321 - val_loss: 1.8541 - val_accuracy: 0.1935\n",
      "Epoch 4/50\n",
      "200/200 [==============================] - 84s 421ms/step - loss: 1.3202 - accuracy: 0.2684 - val_loss: 1.6256 - val_accuracy: 0.2835\n",
      "Epoch 5/50\n",
      "200/200 [==============================] - 84s 420ms/step - loss: 1.2637 - accuracy: 0.2987 - val_loss: 1.3270 - val_accuracy: 0.3660\n",
      "Epoch 6/50\n",
      "200/200 [==============================] - 85s 424ms/step - loss: 1.2200 - accuracy: 0.3184 - val_loss: 1.3257 - val_accuracy: 0.3660\n",
      "Epoch 7/50\n",
      "200/200 [==============================] - 85s 424ms/step - loss: 1.1798 - accuracy: 0.3419 - val_loss: 1.6896 - val_accuracy: 0.1615\n",
      "Epoch 8/50\n",
      "200/200 [==============================] - 85s 424ms/step - loss: 1.1550 - accuracy: 0.3521 - val_loss: 1.2961 - val_accuracy: 0.4415\n",
      "Epoch 9/50\n",
      "200/200 [==============================] - 85s 427ms/step - loss: 1.1215 - accuracy: 0.3659 - val_loss: 1.2695 - val_accuracy: 0.3900\n",
      "Epoch 10/50\n",
      "200/200 [==============================] - 86s 432ms/step - loss: 1.0950 - accuracy: 0.3737 - val_loss: 1.2532 - val_accuracy: 0.5055\n",
      "Epoch 11/50\n",
      "200/200 [==============================] - 85s 424ms/step - loss: 1.0752 - accuracy: 0.3910 - val_loss: 1.2179 - val_accuracy: 0.4425\n",
      "Epoch 12/50\n",
      "200/200 [==============================] - 85s 423ms/step - loss: 1.0586 - accuracy: 0.4005 - val_loss: 1.4725 - val_accuracy: 0.3290\n",
      "Epoch 13/50\n",
      "200/200 [==============================] - 85s 424ms/step - loss: 1.0376 - accuracy: 0.4115 - val_loss: 1.2642 - val_accuracy: 0.4310\n",
      "Epoch 14/50\n",
      "200/200 [==============================] - 85s 426ms/step - loss: 1.0257 - accuracy: 0.4129 - val_loss: 1.2240 - val_accuracy: 0.4935\n",
      "Epoch 15/50\n",
      "200/200 [==============================] - 85s 424ms/step - loss: 1.0185 - accuracy: 0.4152 - val_loss: 1.1524 - val_accuracy: 0.5540\n",
      "Epoch 16/50\n",
      "200/200 [==============================] - 85s 425ms/step - loss: 0.9946 - accuracy: 0.4262 - val_loss: 1.2497 - val_accuracy: 0.4600\n",
      "Epoch 17/50\n",
      "200/200 [==============================] - 86s 431ms/step - loss: 0.9890 - accuracy: 0.4294 - val_loss: 1.2410 - val_accuracy: 0.4440\n",
      "Epoch 18/50\n",
      "200/200 [==============================] - 85s 427ms/step - loss: 0.9746 - accuracy: 0.4400 - val_loss: 1.1527 - val_accuracy: 0.5720\n",
      "Epoch 19/50\n",
      "200/200 [==============================] - 85s 425ms/step - loss: 0.9657 - accuracy: 0.4498 - val_loss: 1.1837 - val_accuracy: 0.3725\n",
      "Epoch 20/50\n",
      "200/200 [==============================] - 85s 425ms/step - loss: 0.9556 - accuracy: 0.4501 - val_loss: 1.2642 - val_accuracy: 0.3980\n",
      "Epoch 21/50\n",
      "200/200 [==============================] - 85s 425ms/step - loss: 0.9443 - accuracy: 0.4548 - val_loss: 1.1720 - val_accuracy: 0.4440\n",
      "Epoch 22/50\n",
      "200/200 [==============================] - 85s 425ms/step - loss: 0.9314 - accuracy: 0.4566 - val_loss: 1.1203 - val_accuracy: 0.5730\n",
      "Epoch 23/50\n",
      "200/200 [==============================] - 86s 429ms/step - loss: 0.9280 - accuracy: 0.4629 - val_loss: 1.1229 - val_accuracy: 0.4995\n",
      "Epoch 24/50\n",
      "200/200 [==============================] - 85s 427ms/step - loss: 0.9330 - accuracy: 0.4621 - val_loss: 1.1456 - val_accuracy: 0.5350\n",
      "Epoch 25/50\n",
      "200/200 [==============================] - 85s 426ms/step - loss: 0.9092 - accuracy: 0.4721 - val_loss: 1.3130 - val_accuracy: 0.4850\n",
      "Epoch 26/50\n",
      "200/200 [==============================] - 85s 426ms/step - loss: 0.9046 - accuracy: 0.4644 - val_loss: 1.3994 - val_accuracy: 0.3620\n",
      "Epoch 27/50\n",
      "200/200 [==============================] - 85s 427ms/step - loss: 0.8975 - accuracy: 0.4685 - val_loss: 1.2556 - val_accuracy: 0.5155\n",
      "Epoch 28/50\n",
      "200/200 [==============================] - 88s 438ms/step - loss: 0.8935 - accuracy: 0.4696 - val_loss: 1.2116 - val_accuracy: 0.4550\n",
      "Epoch 29/50\n",
      "200/200 [==============================] - 85s 426ms/step - loss: 0.8888 - accuracy: 0.4819 - val_loss: 1.2721 - val_accuracy: 0.5395\n",
      "Epoch 30/50\n",
      "200/200 [==============================] - 85s 425ms/step - loss: 0.8822 - accuracy: 0.4788 - val_loss: 1.1827 - val_accuracy: 0.4030\n",
      "Epoch 31/50\n",
      "200/200 [==============================] - 85s 426ms/step - loss: 0.8737 - accuracy: 0.4791 - val_loss: 1.3298 - val_accuracy: 0.4570\n",
      "Epoch 32/50\n",
      "200/200 [==============================] - 88s 440ms/step - loss: 0.8755 - accuracy: 0.4778 - val_loss: 1.4019 - val_accuracy: 0.4570\n",
      "Epoch 33/50\n",
      "200/200 [==============================] - 85s 425ms/step - loss: 0.8636 - accuracy: 0.4928 - val_loss: 1.1820 - val_accuracy: 0.5380\n",
      "Epoch 34/50\n",
      "200/200 [==============================] - 85s 426ms/step - loss: 0.8599 - accuracy: 0.4914 - val_loss: 1.2002 - val_accuracy: 0.4750\n",
      "Epoch 35/50\n",
      "200/200 [==============================] - 85s 425ms/step - loss: 0.8510 - accuracy: 0.4966 - val_loss: 1.1281 - val_accuracy: 0.5775\n",
      "Epoch 36/50\n",
      "200/200 [==============================] - 85s 427ms/step - loss: 0.8592 - accuracy: 0.4921 - val_loss: 1.2318 - val_accuracy: 0.4620\n",
      "Epoch 37/50\n",
      "200/200 [==============================] - 85s 425ms/step - loss: 0.8428 - accuracy: 0.4943 - val_loss: 1.2223 - val_accuracy: 0.5400\n",
      "Epoch 38/50\n",
      "200/200 [==============================] - 85s 426ms/step - loss: 0.8463 - accuracy: 0.4960 - val_loss: 1.1976 - val_accuracy: 0.5190\n",
      "Epoch 39/50\n",
      "200/200 [==============================] - 87s 435ms/step - loss: 0.8452 - accuracy: 0.4923 - val_loss: 1.4063 - val_accuracy: 0.5130\n",
      "Epoch 40/50\n",
      "200/200 [==============================] - 85s 427ms/step - loss: 0.8353 - accuracy: 0.5032 - val_loss: 1.1855 - val_accuracy: 0.4825\n",
      "Epoch 41/50\n",
      "200/200 [==============================] - 85s 426ms/step - loss: 0.8318 - accuracy: 0.5131 - val_loss: 1.1601 - val_accuracy: 0.5725\n",
      "Epoch 42/50\n",
      "200/200 [==============================] - 85s 427ms/step - loss: 0.8350 - accuracy: 0.4969 - val_loss: 1.2270 - val_accuracy: 0.5795\n",
      "Epoch 43/50\n",
      "200/200 [==============================] - 86s 428ms/step - loss: 0.8323 - accuracy: 0.5065 - val_loss: 1.2037 - val_accuracy: 0.5440\n",
      "Epoch 44/50\n",
      "200/200 [==============================] - 85s 426ms/step - loss: 0.8250 - accuracy: 0.5057 - val_loss: 1.2690 - val_accuracy: 0.5840\n",
      "Epoch 45/50\n",
      "200/200 [==============================] - 85s 427ms/step - loss: 0.8245 - accuracy: 0.5149 - val_loss: 1.2884 - val_accuracy: 0.5200\n",
      "Epoch 46/50\n",
      "200/200 [==============================] - 86s 429ms/step - loss: 0.8242 - accuracy: 0.5081 - val_loss: 1.8028 - val_accuracy: 0.3000\n",
      "Epoch 47/50\n",
      "200/200 [==============================] - 85s 425ms/step - loss: 0.8205 - accuracy: 0.5123 - val_loss: 1.2103 - val_accuracy: 0.5300\n",
      "Epoch 48/50\n",
      "200/200 [==============================] - 85s 426ms/step - loss: 0.8172 - accuracy: 0.5110 - val_loss: 1.2785 - val_accuracy: 0.4465\n",
      "Epoch 49/50\n",
      "200/200 [==============================] - 85s 427ms/step - loss: 0.8196 - accuracy: 0.5165 - val_loss: 1.2175 - val_accuracy: 0.4845\n",
      "Epoch 50/50\n",
      "200/200 [==============================] - 85s 427ms/step - loss: 0.8176 - accuracy: 0.5170 - val_loss: 1.3020 - val_accuracy: 0.5760\n"
     ]
    }
   ],
   "source": [
    "history = model.fit(X_train, Y_train, validation_data = (X_test, Y_test),  batch_size=50, epochs=50, verbose = 1, callbacks = [checkpoint])"
   ]
  },
  {
   "cell_type": "code",
   "execution_count": 149,
   "id": "22458191",
   "metadata": {},
   "outputs": [
    {
     "data": {
      "image/png": "[encoded data removed]",
      "text/plain": [
       "<Figure size 640x480 with 1 Axes>"
      ]
     },
     "metadata": {},
     "output_type": "display_data"
    }
   ],
   "source": [
    "from matplotlib import pyplot as plt\n",
    "plt.plot(history.history['accuracy'])\n",
    "plt.plot(history.history['val_accuracy'])\n",
    "plt.title('model accuracy')\n",
    "plt.ylabel('accuracy')\n",
    "plt.xlabel('epoch')\n",
    "plt.legend(['train', 'val'], loc='upper left')\n",
    "plt.show()"
   ]
  },
  {
   "cell_type": "code",
   "execution_count": 150,
   "id": "971a9fa7",
   "metadata": {},
   "outputs": [
    {
     "data": {
      "image/png": "[encoded data removed]",
      "text/plain": [
       "<Figure size 640x480 with 1 Axes>"
      ]
     },
     "metadata": {},
     "output_type": "display_data"
    }
   ],
   "source": [
    "plt.plot(history.history['loss'])\n",
    "plt.plot(history.history['val_loss'])\n",
    "plt.title('model loss')\n",
    "plt.ylabel('loss')\n",
    "plt.xlabel('epoch')\n",
    "plt.legend(['train', 'val'], loc='upper left')\n",
    "plt.show()"
   ]
  },
  {
   "cell_type": "code",
   "execution_count": 15,
   "id": "f64d03a3",
   "metadata": {},
   "outputs": [],
   "source": [
    "model = tf.keras.models.load_model('C:\\\\Users\\\\Manan Kabra\\\\Desktop\\\\Sem5\\\\EE603A\\\\200552_Assignment2\\\\Best_Models\\\\bestest_model.35-1.13.hdf5', compile = True, options = None)"
   ]
  },
  {
   "cell_type": "code",
   "execution_count": 24,
   "id": "bc22523f",
   "metadata": {},
   "outputs": [
    {
     "name": "stdout",
     "output_type": "stream",
     "text": [
      "2500\n"
     ]
    }
   ],
   "source": [
    "path = 'C:\\\\Users\\\\Manan Kabra\\\\Desktop\\\\Sem5\\\\EE603A\\\\test\\\\X'\n",
    "os.chdir(path)\n",
    "X_final_list = os.listdir()\n",
    "print(len(X_final_list))"
   ]
  },
  {
   "cell_type": "code",
   "execution_count": 25,
   "id": "ca539789",
   "metadata": {},
   "outputs": [
    {
     "name": "stdout",
     "output_type": "stream",
     "text": [
      "2500\n"
     ]
    }
   ],
   "source": [
    "X_final_test = []\n",
    "for i in range(len(X_final_list)):\n",
    "  X_mat = np.load(X_final_list[i])\n",
    "  a, b, c = X_mat.shape\n",
    "  X_mat = librosa.power_to_db(X_mat, ref = np.max)\n",
    "  X_mat = X_mat.reshape((b, c, 1))\n",
    "  X_final_test.append(X_mat)\n",
    "  X_final_test[i] = tf.convert_to_tensor(X_final_test[i])\n",
    "print(len(X_final_test))"
   ]
  },
  {
   "cell_type": "code",
   "execution_count": 26,
   "id": "45e4ba73",
   "metadata": {},
   "outputs": [],
   "source": [
    "X_final_test = tf.convert_to_tensor(X_final_test)"
   ]
  },
  {
   "cell_type": "code",
   "execution_count": 27,
   "id": "9a71d8af",
   "metadata": {},
   "outputs": [
    {
     "name": "stdout",
     "output_type": "stream",
     "text": [
      "2500 <class 'tensorflow.python.framework.ops.EagerTensor'>\n"
     ]
    }
   ],
   "source": [
    "print(len(X_final_test), type(X_final_test))"
   ]
  },
  {
   "cell_type": "code",
   "execution_count": 37,
   "id": "3612d872",
   "metadata": {},
   "outputs": [
    {
     "name": "stdout",
     "output_type": "stream",
     "text": [
      "79/79 [==============================] - 6s 72ms/step\n"
     ]
    }
   ],
   "source": [
    "Y_pred = model.predict(X_final_test)"
   ]
  },
  {
   "cell_type": "code",
   "execution_count": 38,
   "id": "7b26c130",
   "metadata": {},
   "outputs": [],
   "source": [
    "path = 'C:\\\\Users\\\\Manan Kabra\\\\Desktop\\\\Sem5\\\\EE603A\\\\200552_Assignment2'\n",
    "os.chdir(path)\n",
    "DF = pd.DataFrame(Y_pred)\n",
    "DF.to_csv(\"Assignment2_cnndata_before_threshold\")"
   ]
  },
  {
   "cell_type": "code",
   "execution_count": 39,
   "id": "6c850a44",
   "metadata": {},
   "outputs": [],
   "source": [
    "threshold_val = 0.162475\n",
    "Y_pred[Y_pred < threshold_val] = 0\n",
    "Y_pred[Y_pred >= threshold_val] = 1\n",
    "Y_pred = np.array(Y_pred)"
   ]
  },
  {
   "cell_type": "code",
   "execution_count": 40,
   "id": "f1d541fa",
   "metadata": {},
   "outputs": [],
   "source": [
    "path = 'C:\\\\Users\\\\Manan Kabra\\\\Desktop\\\\Sem5\\\\EE603A\\\\200552_Assignment2'\n",
    "os.chdir(path)\n",
    "DF = pd.DataFrame(Y_pred)\n",
    "DF.to_csv(\"Assignment2_cnndata_after_threshold\")"
   ]
  },
  {
   "cell_type": "code",
   "execution_count": null,
   "id": "4b774524",
   "metadata": {},
   "outputs": [],
   "source": [
    "Y_test[Y_test >= 0.1] = 1"
   ]
  },
  {
   "cell_type": "code",
   "execution_count": 29,
   "id": "fd1c17ca",
   "metadata": {},
   "outputs": [
    {
     "ename": "NameError",
     "evalue": "name 'Y_test' is not defined",
     "output_type": "error",
     "traceback": [
      "\u001b[1;31m---------------------------------------------------------------------------\u001b[0m",
      "\u001b[1;31mNameError\u001b[0m                                 Traceback (most recent call last)",
      "\u001b[1;32m~\\AppData\\Local\\Temp\\ipykernel_17632\\3062475864.py\u001b[0m in \u001b[0;36m<module>\u001b[1;34m\u001b[0m\n\u001b[0;32m      1\u001b[0m \u001b[1;32mfrom\u001b[0m \u001b[0msklearn\u001b[0m\u001b[1;33m.\u001b[0m\u001b[0mmetrics\u001b[0m \u001b[1;32mimport\u001b[0m \u001b[0mclassification_report\u001b[0m\u001b[1;33m\u001b[0m\u001b[1;33m\u001b[0m\u001b[0m\n\u001b[1;32m----> 2\u001b[1;33m \u001b[0mprint\u001b[0m\u001b[1;33m(\u001b[0m\u001b[0mclassification_report\u001b[0m\u001b[1;33m(\u001b[0m\u001b[0mY_test\u001b[0m\u001b[1;33m,\u001b[0m \u001b[0mY_pred\u001b[0m\u001b[1;33m)\u001b[0m\u001b[1;33m)\u001b[0m\u001b[1;33m\u001b[0m\u001b[1;33m\u001b[0m\u001b[0m\n\u001b[0m",
      "\u001b[1;31mNameError\u001b[0m: name 'Y_test' is not defined"
     ]
    }
   ],
   "source": [
    "from sklearn.metrics import classification_report\n",
    "print(classification_report(Y_test, Y_pred))"
   ]
  },
  {
   "cell_type": "code",
   "execution_count": 28,
   "id": "4c4b4b4a",
   "metadata": {},
   "outputs": [
    {
     "data": {
      "text/plain": [
       "array([[[1594,   14],\n",
       "        [  46,  346]],\n",
       "\n",
       "       [[1532,   32],\n",
       "        [  61,  375]],\n",
       "\n",
       "       [[1712,   14],\n",
       "        [  35,  239]],\n",
       "\n",
       "       [[1477,   79],\n",
       "        [ 152,  292]],\n",
       "\n",
       "       [[1678,   16],\n",
       "        [  73,  233]],\n",
       "\n",
       "       [[1750,   29],\n",
       "        [  31,  190]],\n",
       "\n",
       "       [[1855,   15],\n",
       "        [  19,  111]],\n",
       "\n",
       "       [[1826,   31],\n",
       "        [  49,   94]],\n",
       "\n",
       "       [[ 175,  579],\n",
       "        [   5, 1241]],\n",
       "\n",
       "       [[1823,   26],\n",
       "        [  56,   95]]], dtype=int64)"
      ]
     },
     "execution_count": 28,
     "metadata": {},
     "output_type": "execute_result"
    }
   ],
   "source": [
    "from sklearn.metrics import multilabel_confusion_matrix\n",
    "multilabel_confusion_matrix(Y_test, Y_pred)"
   ]
  },
  {
   "cell_type": "code",
   "execution_count": 23,
   "id": "77cf4ce9",
   "metadata": {},
   "outputs": [
    {
     "name": "stdout",
     "output_type": "stream",
     "text": [
      "0.8592038471814053\n"
     ]
    }
   ],
   "source": [
    "correct = 0\n",
    "total = 0\n",
    "for i in range(len(Y_pred)):\n",
    "  for j in range(len(Y_pred[i])):\n",
    "    if(Y_test[i][j] == 1):\n",
    "      total += 1   \n",
    "      if(Y_pred[i][j] == 1):\n",
    "        correct += 1\n",
    "accuracy = correct/total\n",
    "print(accuracy)"
   ]
  },
  {
   "cell_type": "code",
   "execution_count": 24,
   "id": "62f9620f",
   "metadata": {},
   "outputs": [
    {
     "name": "stdout",
     "output_type": "stream",
     "text": [
      "3216 835 527 15422\n"
     ]
    }
   ],
   "source": [
    "TP = 0\n",
    "TN = 0\n",
    "FP = 0\n",
    "FN = 0\n",
    "for i in range(len(Y_pred)):\n",
    "  for j in range(len(Y_pred[i])):\n",
    "    if(Y_test[i][j] == 1 and Y_pred[i][j] == 1):\n",
    "      TP += 1\n",
    "    elif(Y_test[i][j] == 0 and Y_pred[i][j] == 1):\n",
    "      FP += 1\n",
    "    elif(Y_test[i][j] == 1 and Y_pred[i][j] == 0):\n",
    "      FN += 1\n",
    "    elif(Y_test[i][j] == 0 and Y_pred[i][j] == 0):\n",
    "      TN += 1\n",
    "print(TP, FP, FN, TN)"
   ]
  },
  {
   "cell_type": "code",
   "execution_count": 25,
   "id": "ba6d88bd",
   "metadata": {},
   "outputs": [
    {
     "name": "stdout",
     "output_type": "stream",
     "text": [
      "Precision =  0.7938780548012836\n",
      "Recall =  0.8592038471814053\n",
      "F1 score =  0.8252501924557352\n"
     ]
    }
   ],
   "source": [
    "precision = TP/(TP + FP)\n",
    "recall = TP/(TP + FN)\n",
    "f1_score = (2*(precision)*(recall))/(precision + recall)\n",
    "print(\"Precision = \", precision)\n",
    "print(\"Recall = \", recall)\n",
    "print(\"F1 score = \", f1_score)"
   ]
  },
  {
   "cell_type": "code",
   "execution_count": null,
   "id": "8a803bdd",
   "metadata": {},
   "outputs": [],
   "source": []
  }
 ],
 "metadata": {
  "kernelspec": {
   "display_name": "Python 3 (ipykernel)",
   "language": "python",
   "name": "python3"
  },
  "language_info": {
   "codemirror_mode": {
    "name": "ipython",
    "version": 3
   },
   "file_extension": ".py",
   "mimetype": "text/x-python",
   "name": "python",
   "nbconvert_exporter": "python",
   "pygments_lexer": "ipython3",
   "version": "3.9.13"
  }
 },
 "nbformat": 4,
 "nbformat_minor": 5
}
