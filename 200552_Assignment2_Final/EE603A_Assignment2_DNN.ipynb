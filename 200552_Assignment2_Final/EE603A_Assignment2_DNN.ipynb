{
 "cells": [
  {
   "cell_type": "code",
   "execution_count": 1,
   "id": "cfb8de88",
   "metadata": {},
   "outputs": [
    {
     "name": "stderr",
     "output_type": "stream",
     "text": [
      "D:\\Anaconda\\lib\\site-packages\\paramiko\\transport.py:219: CryptographyDeprecationWarning: Blowfish has been deprecated\n",
      "  \"class\": algorithms.Blowfish,\n"
     ]
    }
   ],
   "source": [
    "import tensorflow as tf\n",
    "import librosa\n",
    "import pandas as pd\n",
    "import numpy as np\n",
    "import sklearn\n",
    "import os\n",
    "from keras.callbacks import TensorBoard\n",
    "from keras.models import Sequential\n",
    "from keras.layers import Conv2D, MaxPooling2D\n",
    "from keras.layers import Activation, Dropout, Flatten, Dense\n",
    "from warnings import filterwarnings\n",
    "filterwarnings(\"ignore\")"
   ]
  },
  {
   "cell_type": "code",
   "execution_count": 2,
   "id": "2f7126db",
   "metadata": {},
   "outputs": [],
   "source": [
    "def eventroll_to_multihot_vector(eventroll):\n",
    "  active_events = (eventroll.sum(axis=1) >= 0.5).astype('float')\n",
    "  multi_hot = np.delete(active_events, 8)\n",
    "  return multi_hot"
   ]
  },
  {
   "cell_type": "code",
   "execution_count": 3,
   "id": "4629da74",
   "metadata": {},
   "outputs": [
    {
     "name": "stdout",
     "output_type": "stream",
     "text": [
      "10000\n"
     ]
    }
   ],
   "source": [
    "path = \"C:\\\\Users\\\\Manan Kabra\\\\Desktop\\\\Sem5\\\\EE603A\\\\Y\"\n",
    "os.chdir(path)\n",
    "Y_list = os.listdir()\n",
    "print(len(Y_list))"
   ]
  },
  {
   "cell_type": "code",
   "execution_count": 4,
   "id": "eb7f088c",
   "metadata": {},
   "outputs": [
    {
     "name": "stdout",
     "output_type": "stream",
     "text": [
      "10000\n"
     ]
    }
   ],
   "source": [
    "Y_hot = []\n",
    "for i in range(len(Y_list)):\n",
    "  Y_mat = np.load(Y_list[i])\n",
    "  multi_hot = eventroll_to_multihot_vector(Y_mat)\n",
    "  Y_hot.append(multi_hot)\n",
    "print(len(Y_hot))"
   ]
  },
  {
   "cell_type": "code",
   "execution_count": 5,
   "id": "9e2c812b",
   "metadata": {},
   "outputs": [
    {
     "name": "stdout",
     "output_type": "stream",
     "text": [
      "10000\n"
     ]
    }
   ],
   "source": [
    "path = \"C:\\\\Users\\\\Manan Kabra\\\\Desktop\\\\Sem5\\\\EE603A\\\\X\"\n",
    "os.chdir(path)\n",
    "X_list = os.listdir()\n",
    "print(len(X_list))"
   ]
  },
  {
   "cell_type": "code",
   "execution_count": 6,
   "id": "21e69edd",
   "metadata": {},
   "outputs": [
    {
     "name": "stdout",
     "output_type": "stream",
     "text": [
      "10000\n"
     ]
    }
   ],
   "source": [
    "X_input = []\n",
    "for i in range(len(X_list)):\n",
    "  X_mat = np.load(X_list[i])\n",
    "  X_mat = librosa.power_to_db(X_mat, ref = np.max)\n",
    "  X_input.append(X_mat)\n",
    "  X_input[i] = tf.convert_to_tensor(X_input[i])\n",
    "print(len(X_input))"
   ]
  },
  {
   "cell_type": "code",
   "execution_count": 7,
   "id": "308ee685",
   "metadata": {},
   "outputs": [
    {
     "name": "stdout",
     "output_type": "stream",
     "text": [
      "2000\n"
     ]
    }
   ],
   "source": [
    "path = 'C:\\\\Users\\\\Manan Kabra\\\\Desktop\\\\Sem5\\\\EE603A\\\\dataset\\\\Y'\n",
    "os.chdir(path)\n",
    "Yval_list = os.listdir()\n",
    "print(len(Yval_list))"
   ]
  },
  {
   "cell_type": "code",
   "execution_count": 8,
   "id": "c6369e1a",
   "metadata": {},
   "outputs": [
    {
     "name": "stdout",
     "output_type": "stream",
     "text": [
      "2000\n"
     ]
    }
   ],
   "source": [
    "Yval_hot = []\n",
    "for i in range(len(Yval_list)):\n",
    "  Y_mat = np.load(Yval_list[i])\n",
    "  multi_hot = eventroll_to_multihot_vector(Y_mat)\n",
    "  Yval_hot.append(multi_hot)\n",
    "print(len(Yval_hot))"
   ]
  },
  {
   "cell_type": "code",
   "execution_count": 9,
   "id": "f1b169f0",
   "metadata": {},
   "outputs": [
    {
     "name": "stdout",
     "output_type": "stream",
     "text": [
      "2000\n"
     ]
    }
   ],
   "source": [
    "path = 'C:\\\\Users\\\\Manan Kabra\\\\Desktop\\\\Sem5\\\\EE603A\\\\dataset\\\\X'\n",
    "os.chdir(path)\n",
    "Xval_list = os.listdir()\n",
    "print(len(Xval_list))"
   ]
  },
  {
   "cell_type": "code",
   "execution_count": 10,
   "id": "a643ddfb",
   "metadata": {},
   "outputs": [
    {
     "name": "stdout",
     "output_type": "stream",
     "text": [
      "2000\n"
     ]
    }
   ],
   "source": [
    "Xval_input = []\n",
    "for i in range(len(Xval_list)):\n",
    "  X_mat = np.load(Xval_list[i])\n",
    "  X_mat = librosa.power_to_db(X_mat, ref = np.max)\n",
    "  Xval_input.append(X_mat)\n",
    "  Xval_input[i] = tf.convert_to_tensor(Xval_input[i])\n",
    "print(len(Xval_input))"
   ]
  },
  {
   "cell_type": "code",
   "execution_count": 11,
   "id": "b53a5ced",
   "metadata": {},
   "outputs": [],
   "source": [
    "X_train = X_input\n",
    "Y_train = Y_hot\n",
    "X_test = Xval_input\n",
    "Y_test = Yval_hot"
   ]
  },
  {
   "cell_type": "code",
   "execution_count": 12,
   "id": "a07cae99",
   "metadata": {},
   "outputs": [],
   "source": [
    "X_train = tf.convert_to_tensor(X_train)\n",
    "X_test = tf.convert_to_tensor(X_test)\n",
    "Y_train = np.array(Y_train)\n",
    "Y_test = np.array(Y_test)"
   ]
  },
  {
   "cell_type": "code",
   "execution_count": 13,
   "id": "0716baae",
   "metadata": {},
   "outputs": [],
   "source": [
    "Y_train = Y_train/(Y_train.sum(axis = 1, keepdims = True))\n",
    "Y_test = Y_test/(Y_test.sum(axis = 1, keepdims = True))"
   ]
  },
  {
   "cell_type": "code",
   "execution_count": 14,
   "id": "6f6b83d9",
   "metadata": {},
   "outputs": [
    {
     "name": "stdout",
     "output_type": "stream",
     "text": [
      "<class 'numpy.ndarray'> <class 'numpy.ndarray'>\n",
      "<class 'tensorflow.python.framework.ops.EagerTensor'> <class 'tensorflow.python.framework.ops.EagerTensor'>\n"
     ]
    }
   ],
   "source": [
    "print(type(Y_test), type(Y_train))\n",
    "print(type(X_test), type(X_train))"
   ]
  },
  {
   "cell_type": "code",
   "execution_count": 15,
   "id": "c96263f5",
   "metadata": {},
   "outputs": [
    {
     "name": "stdout",
     "output_type": "stream",
     "text": [
      "2000 2000 10000 10000\n"
     ]
    }
   ],
   "source": [
    "print(len(Y_test), len(X_test), len(Y_train), len(X_train))"
   ]
  },
  {
   "cell_type": "code",
   "execution_count": 16,
   "id": "ef76893f",
   "metadata": {},
   "outputs": [
    {
     "name": "stdout",
     "output_type": "stream",
     "text": [
      "(2000, 1, 64, 1000) (2000, 10) (10000, 1, 64, 1000) (10000, 10)\n"
     ]
    }
   ],
   "source": [
    "print(X_test.shape, Y_test.shape, X_train.shape, Y_train.shape)"
   ]
  },
  {
   "cell_type": "code",
   "execution_count": 17,
   "id": "6fed5ff0",
   "metadata": {},
   "outputs": [],
   "source": [
    "from keras.callbacks import ModelCheckpoint\n",
    "model_path = 'C:\\\\Users\\\\Manan Kabra\\\\Desktop\\\\Sem5\\\\EE603A\\\\200552_Assignment2\\\\Best_Models\\\\new_best_models_dnn.{epoch:02d}-{val_loss:.3f}.hdf5'\n",
    "checkpoint = tf.keras.callbacks.ModelCheckpoint(filepath = model_path, monitor = 'val_accuracy', save_best_only = True, mode = 'max')"
   ]
  },
  {
   "cell_type": "code",
   "execution_count": 28,
   "id": "c50fda0c",
   "metadata": {},
   "outputs": [
    {
     "data": {
      "text/plain": [
       "<keras.engine.sequential.Sequential at 0x278499a6b80>"
      ]
     },
     "execution_count": 28,
     "metadata": {},
     "output_type": "execute_result"
    }
   ],
   "source": [
    "model = tf.keras.Sequential([\n",
    "    tf.keras.layers.Dense(100,activation='relu'),\n",
    "    tf.keras.layers.Dense(10,activation='relu'),\n",
    "    tf.keras.layers.Dense(1,activation='relu'),\n",
    "    tf.keras.layers.Flatten(),\n",
    "    tf.keras.layers.Dense(10, activation='softmax')\n",
    "  ])\n",
    "model"
   ]
  },
  {
   "cell_type": "code",
   "execution_count": 29,
   "id": "e5b46f52",
   "metadata": {},
   "outputs": [
    {
     "name": "stdout",
     "output_type": "stream",
     "text": [
      "Model: \"sequential_3\"\n",
      "_________________________________________________________________\n",
      " Layer (type)                Output Shape              Param #   \n",
      "=================================================================\n",
      " dense_13 (Dense)            (None, 1, 64, 100)        100100    \n",
      "                                                                 \n",
      " dense_14 (Dense)            (None, 1, 64, 10)         1010      \n",
      "                                                                 \n",
      " dense_15 (Dense)            (None, 1, 64, 1)          11        \n",
      "                                                                 \n",
      " flatten_3 (Flatten)         (None, 64)                0         \n",
      "                                                                 \n",
      " dense_16 (Dense)            (None, 10)                650       \n",
      "                                                                 \n",
      "=================================================================\n",
      "Total params: 101,771\n",
      "Trainable params: 101,771\n",
      "Non-trainable params: 0\n",
      "_________________________________________________________________\n"
     ]
    }
   ],
   "source": [
    "model.compile(optimizer=tf.keras.optimizers.Adam(),\n",
    "            loss=tf.keras.losses.CategoricalCrossentropy(),\n",
    "            metrics=[\"accuracy\"])\n",
    "model.build((None,1,64,1000))\n",
    "model.summary()"
   ]
  },
  {
   "cell_type": "code",
   "execution_count": 30,
   "id": "1a773241",
   "metadata": {},
   "outputs": [
    {
     "name": "stdout",
     "output_type": "stream",
     "text": [
      "Epoch 1/20\n",
      "200/200 [==============================] - 5s 23ms/step - loss: 2.2440 - accuracy: 0.1121 - val_loss: 2.2386 - val_accuracy: 0.0480\n",
      "Epoch 2/20\n",
      "200/200 [==============================] - 5s 23ms/step - loss: 2.1404 - accuracy: 0.1125 - val_loss: 2.1934 - val_accuracy: 0.0480\n",
      "Epoch 3/20\n",
      "200/200 [==============================] - 4s 22ms/step - loss: 2.0594 - accuracy: 0.1125 - val_loss: 2.1661 - val_accuracy: 0.0480\n",
      "Epoch 4/20\n",
      "200/200 [==============================] - 4s 22ms/step - loss: 2.0006 - accuracy: 0.1125 - val_loss: 2.1544 - val_accuracy: 0.0480\n",
      "Epoch 5/20\n",
      "200/200 [==============================] - 4s 22ms/step - loss: 1.9614 - accuracy: 0.1125 - val_loss: 2.1540 - val_accuracy: 0.0480\n",
      "Epoch 6/20\n",
      "200/200 [==============================] - 4s 22ms/step - loss: 1.9377 - accuracy: 0.1125 - val_loss: 2.1606 - val_accuracy: 0.0480\n",
      "Epoch 7/20\n",
      "200/200 [==============================] - 4s 22ms/step - loss: 1.9246 - accuracy: 0.1125 - val_loss: 2.1695 - val_accuracy: 0.0480\n",
      "Epoch 8/20\n",
      "200/200 [==============================] - 4s 22ms/step - loss: 1.9180 - accuracy: 0.1125 - val_loss: 2.1782 - val_accuracy: 0.0480\n",
      "Epoch 9/20\n",
      "200/200 [==============================] - 4s 22ms/step - loss: 1.9150 - accuracy: 0.1125 - val_loss: 2.1856 - val_accuracy: 0.0480\n",
      "Epoch 10/20\n",
      "200/200 [==============================] - 4s 22ms/step - loss: 1.9137 - accuracy: 0.1125 - val_loss: 2.1907 - val_accuracy: 0.0480\n",
      "Epoch 11/20\n",
      "200/200 [==============================] - 4s 22ms/step - loss: 1.9132 - accuracy: 0.1125 - val_loss: 2.1939 - val_accuracy: 0.0480\n",
      "Epoch 12/20\n",
      "200/200 [==============================] - 4s 22ms/step - loss: 1.9130 - accuracy: 0.1125 - val_loss: 2.1960 - val_accuracy: 0.0480\n",
      "Epoch 13/20\n",
      "200/200 [==============================] - 4s 22ms/step - loss: 1.9130 - accuracy: 0.1125 - val_loss: 2.1979 - val_accuracy: 0.0480\n",
      "Epoch 14/20\n",
      "200/200 [==============================] - 4s 22ms/step - loss: 1.9129 - accuracy: 0.1125 - val_loss: 2.1983 - val_accuracy: 0.0480\n",
      "Epoch 15/20\n",
      "200/200 [==============================] - 4s 22ms/step - loss: 1.9130 - accuracy: 0.1125 - val_loss: 2.1991 - val_accuracy: 0.0480\n",
      "Epoch 16/20\n",
      "200/200 [==============================] - 4s 22ms/step - loss: 1.9129 - accuracy: 0.1125 - val_loss: 2.1993 - val_accuracy: 0.0480\n",
      "Epoch 17/20\n",
      "200/200 [==============================] - 4s 22ms/step - loss: 1.9129 - accuracy: 0.1125 - val_loss: 2.1994 - val_accuracy: 0.0480\n",
      "Epoch 18/20\n",
      "200/200 [==============================] - 4s 22ms/step - loss: 1.9129 - accuracy: 0.1125 - val_loss: 2.1995 - val_accuracy: 0.0480\n",
      "Epoch 19/20\n",
      "200/200 [==============================] - 4s 22ms/step - loss: 1.9129 - accuracy: 0.1125 - val_loss: 2.1993 - val_accuracy: 0.0480\n",
      "Epoch 20/20\n",
      "200/200 [==============================] - 4s 22ms/step - loss: 1.9129 - accuracy: 0.1125 - val_loss: 2.1989 - val_accuracy: 0.0480\n"
     ]
    }
   ],
   "source": [
    "history = model.fit(X_train, Y_train, validation_data = (X_test, Y_test),  batch_size=50, epochs=20, verbose = 1, callbacks = [checkpoint])"
   ]
  },
  {
   "cell_type": "code",
   "execution_count": 31,
   "id": "6a4299a4",
   "metadata": {},
   "outputs": [
    {
     "data": {
      "image/png": "[encoded data removed]",
      "text/plain": [
       "<Figure size 640x480 with 1 Axes>"
      ]
     },
     "metadata": {},
     "output_type": "display_data"
    }
   ],
   "source": [
    "from matplotlib import pyplot as plt\n",
    "plt.plot(history.history['accuracy'])\n",
    "plt.plot(history.history['val_accuracy'])\n",
    "plt.title('model accuracy')\n",
    "plt.ylabel('accuracy')\n",
    "plt.xlabel('epoch')\n",
    "plt.legend(['train', 'val'], loc='upper left')\n",
    "plt.show()"
   ]
  },
  {
   "cell_type": "code",
   "execution_count": 32,
   "id": "4b298450",
   "metadata": {},
   "outputs": [
    {
     "data": {
      "image/png": "[encoded data removed]",
      "text/plain": [
       "<Figure size 640x480 with 1 Axes>"
      ]
     },
     "metadata": {},
     "output_type": "display_data"
    }
   ],
   "source": [
    "plt.plot(history.history['loss'])\n",
    "plt.plot(history.history['val_loss'])\n",
    "plt.title('model loss')\n",
    "plt.ylabel('loss')\n",
    "plt.xlabel('epoch')\n",
    "plt.legend(['train', 'val'], loc='upper left')\n",
    "plt.show()"
   ]
  },
  {
   "cell_type": "code",
   "execution_count": 88,
   "id": "55cf7b21",
   "metadata": {},
   "outputs": [],
   "source": [
    "model = tf.keras.models.load_model('C:\\\\Users\\\\Manan Kabra\\\\Desktop\\\\Sem5\\\\EE603A\\\\200552_Assignment2\\\\Best_Models\\\\new_best_models_dnn.01-2.208.hdf5', compile = True, options = None)"
   ]
  },
  {
   "cell_type": "code",
   "execution_count": 37,
   "id": "467f40f7",
   "metadata": {},
   "outputs": [
    {
     "name": "stdout",
     "output_type": "stream",
     "text": [
      "2500\n"
     ]
    }
   ],
   "source": [
    "path = 'C:\\\\Users\\\\Manan Kabra\\\\Desktop\\\\Sem5\\\\EE603A\\\\test\\\\X'\n",
    "os.chdir(path)\n",
    "X_final_list = os.listdir()\n",
    "print(len(X_final_list))"
   ]
  },
  {
   "cell_type": "code",
   "execution_count": 42,
   "id": "7d7e17d2",
   "metadata": {},
   "outputs": [
    {
     "name": "stdout",
     "output_type": "stream",
     "text": [
      "2500\n"
     ]
    }
   ],
   "source": [
    "X_final_test = []\n",
    "for i in range(len(X_final_list)):\n",
    "  X_mat = np.load(X_final_list[i])\n",
    "  a, b, c = X_mat.shape\n",
    "  X_mat = librosa.power_to_db(X_mat, ref = np.max)\n",
    "  X_final_test.append(X_mat)\n",
    "  X_final_test[i] = tf.convert_to_tensor(X_final_test[i])\n",
    "print(len(X_final_test))"
   ]
  },
  {
   "cell_type": "code",
   "execution_count": 43,
   "id": "a85de887",
   "metadata": {},
   "outputs": [],
   "source": [
    "X_final_test = tf.convert_to_tensor(X_final_test)"
   ]
  },
  {
   "cell_type": "code",
   "execution_count": 44,
   "id": "a2b4e6a5",
   "metadata": {},
   "outputs": [
    {
     "name": "stdout",
     "output_type": "stream",
     "text": [
      "2500 <class 'tensorflow.python.framework.ops.EagerTensor'>\n"
     ]
    }
   ],
   "source": [
    "print(len(X_final_test), type(X_final_test))"
   ]
  },
  {
   "cell_type": "code",
   "execution_count": 45,
   "id": "6c92625a",
   "metadata": {},
   "outputs": [
    {
     "name": "stdout",
     "output_type": "stream",
     "text": [
      "79/79 [==============================] - 1s 11ms/step\n"
     ]
    }
   ],
   "source": [
    "Y_pred = model.predict(X_final_test)"
   ]
  },
  {
   "cell_type": "code",
   "execution_count": 46,
   "id": "82243806",
   "metadata": {},
   "outputs": [],
   "source": [
    "path = 'C:\\\\Users\\\\Manan Kabra\\\\Desktop\\\\Sem5\\\\EE603A\\\\200552_Assignment2'\n",
    "os.chdir(path)\n",
    "DF = pd.DataFrame(Y_pred)\n",
    "DF.to_csv(\"Assignment2_dnndata_before_threshold\")"
   ]
  },
  {
   "cell_type": "code",
   "execution_count": 47,
   "id": "1c155092",
   "metadata": {},
   "outputs": [],
   "source": [
    "threshold_val = 0.162475\n",
    "Y_pred[Y_pred < threshold_val] = 0\n",
    "Y_pred[Y_pred >= threshold_val] = 1\n",
    "Y_pred = np.array(Y_pred)"
   ]
  },
  {
   "cell_type": "code",
   "execution_count": 48,
   "id": "8fe87475",
   "metadata": {},
   "outputs": [],
   "source": [
    "path = 'C:\\\\Users\\\\Manan Kabra\\\\Desktop\\\\Sem5\\\\EE603A\\\\200552_Assignment2'\n",
    "os.chdir(path)\n",
    "DF = pd.DataFrame(Y_pred)\n",
    "DF.to_csv(\"Assignment2_cnndata_after_threshold\")"
   ]
  },
  {
   "cell_type": "code",
   "execution_count": 35,
   "id": "94810fe5",
   "metadata": {},
   "outputs": [],
   "source": [
    "Y_test[Y_test >= 0.1] = 1"
   ]
  },
  {
   "cell_type": "code",
   "execution_count": 36,
   "id": "dce3a078",
   "metadata": {},
   "outputs": [
    {
     "name": "stdout",
     "output_type": "stream",
     "text": [
      "              precision    recall  f1-score   support\n",
      "\n",
      "           0       0.00      0.00      0.00       392\n",
      "           1       0.00      0.00      0.00       436\n",
      "           2       0.00      0.00      0.00       274\n",
      "           3       0.00      0.00      0.00       444\n",
      "           4       0.00      0.00      0.00       306\n",
      "           5       0.00      0.00      0.00       221\n",
      "           6       0.00      0.00      0.00       130\n",
      "           7       0.00      0.00      0.00       143\n",
      "           8       0.62      1.00      0.77      1246\n",
      "           9       0.00      0.00      0.00       151\n",
      "\n",
      "   micro avg       0.62      0.33      0.43      3743\n",
      "   macro avg       0.06      0.10      0.08      3743\n",
      "weighted avg       0.21      0.33      0.26      3743\n",
      " samples avg       0.62      0.29      0.39      3743\n",
      "\n"
     ]
    }
   ],
   "source": [
    "from sklearn.metrics import classification_report\n",
    "print(classification_report(Y_test, Y_pred))"
   ]
  },
  {
   "cell_type": "code",
   "execution_count": null,
   "id": "3b11bb17",
   "metadata": {},
   "outputs": [],
   "source": [
    "from sklearn.metrics import multilabel_confusion_matrix\n",
    "multilabel_confusion_matrix(Y_test, Y_pred)"
   ]
  },
  {
   "cell_type": "code",
   "execution_count": 90,
   "id": "8642231b",
   "metadata": {},
   "outputs": [
    {
     "name": "stdout",
     "output_type": "stream",
     "text": [
      "0.33288805770772106\n"
     ]
    }
   ],
   "source": [
    "correct = 0\n",
    "total = 0\n",
    "for i in range(len(Y_pred)):\n",
    "  for j in range(len(Y_pred[i])):\n",
    "    if(Y_test[i][j] == 1):\n",
    "      total += 1   \n",
    "      if(Y_pred[i][j] == 1):\n",
    "        correct += 1\n",
    "accuracy = correct/total\n",
    "print(accuracy)"
   ]
  },
  {
   "cell_type": "code",
   "execution_count": 91,
   "id": "ff3b3dbc",
   "metadata": {},
   "outputs": [
    {
     "name": "stdout",
     "output_type": "stream",
     "text": [
      "1246 754 2497 15503\n"
     ]
    }
   ],
   "source": [
    "TP = 0\n",
    "TN = 0\n",
    "FP = 0\n",
    "FN = 0\n",
    "for i in range(len(Y_pred)):\n",
    "  for j in range(len(Y_pred[i])):\n",
    "    if(Y_test[i][j] == 1 and Y_pred[i][j] == 1):\n",
    "      TP += 1\n",
    "    elif(Y_test[i][j] == 0 and Y_pred[i][j] == 1):\n",
    "      FP += 1\n",
    "    elif(Y_test[i][j] == 1 and Y_pred[i][j] == 0):\n",
    "      FN += 1\n",
    "    elif(Y_test[i][j] == 0 and Y_pred[i][j] == 0):\n",
    "      TN += 1\n",
    "print(TP, FP, FN, TN)"
   ]
  },
  {
   "cell_type": "code",
   "execution_count": 92,
   "id": "bb1153f9",
   "metadata": {},
   "outputs": [
    {
     "name": "stdout",
     "output_type": "stream",
     "text": [
      "Precision =  0.623\n",
      "Recall =  0.33288805770772106\n",
      "F1 score =  0.4339195542399442\n"
     ]
    }
   ],
   "source": [
    "precision = TP/(TP + FP)\n",
    "recall = TP/(TP + FN)\n",
    "f1_score = (2*(precision)*(recall))/(precision + recall)\n",
    "print(\"Precision = \", precision)\n",
    "print(\"Recall = \", recall)\n",
    "print(\"F1 score = \", f1_score)"
   ]
  },
  {
   "cell_type": "code",
   "execution_count": null,
   "id": "df801a34",
   "metadata": {},
   "outputs": [],
   "source": []
  }
 ],
 "metadata": {
  "kernelspec": {
   "display_name": "Python 3 (ipykernel)",
   "language": "python",
   "name": "python3"
  },
  "language_info": {
   "codemirror_mode": {
    "name": "ipython",
    "version": 3
   },
   "file_extension": ".py",
   "mimetype": "text/x-python",
   "name": "python",
   "nbconvert_exporter": "python",
   "pygments_lexer": "ipython3",
   "version": "3.9.13"
  }
 },
 "nbformat": 4,
 "nbformat_minor": 5
}
